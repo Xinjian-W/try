{
 "cells": [
  {
   "cell_type": "markdown",
   "metadata": {},
   "source": [
    "### Maximum of two"
   ]
  },
  {
   "cell_type": "markdown",
   "metadata": {},
   "source": [
    "Define a function ```max_of_two()``` that takes two numbers as arguments and returns the largest of them. Use the if-then-else construct available in Python. (It is true that Python has the max() function built in, but writing it yourself is nevertheless a good exercise.)\n",
    "\n",
    "(Credits:  [Thorbjoern Lager](https://www.gu.se/english/about_the_university/staff/?languageId=100001&userId=xlagto))"
   ]
  },
  {
   "cell_type": "code",
   "execution_count": null,
   "metadata": {},
   "outputs": [],
   "source": [
    "def max_of_two(x,y):\n",
    "    if x>y:\n",
    "        return x\n",
    "    else:\n",
    "        return y"
   ]
  },
  {
   "cell_type": "markdown",
   "metadata": {},
   "source": [
    "### Maximum of three"
   ]
  },
  {
   "cell_type": "markdown",
   "metadata": {},
   "source": [
    "Define a function ```max_of_three()``` that takes three numbers as arguments and returns the largest of them. Use if-then-else.\n",
    "\n",
    "(Credits:  [Thorbjoern Lager](https://www.gu.se/english/about_the_university/staff/?languageId=100001&userId=xlagto))"
   ]
  },
  {
   "cell_type": "code",
   "execution_count": null,
   "metadata": {},
   "outputs": [],
   "source": [
    "def max_of_three(x,y,z):\n",
    "    if x>y:\n",
    "        # y cannot be the maximum\n",
    "        if x>z:\n",
    "            return x\n",
    "        else:\n",
    "            return z\n",
    "    else: # x cannot be the maximum\n",
    "        if y>z:\n",
    "            return y\n",
    "        else:\n",
    "            return z\n",
    "\n",
    "print(max_of_three(3,1,1))"
   ]
  },
  {
   "cell_type": "markdown",
   "metadata": {},
   "source": [
    "### Maximum of many"
   ]
  },
  {
   "cell_type": "markdown",
   "metadata": {},
   "source": [
    "Define a function ```listMax()``` that takes a list as argument and returns a tuple with the maximum and its index in the list.\n",
    "\n",
    "(Credits:  [Thorbjoern Lager](https://www.gu.se/english/about_the_university/staff/?languageId=100001&userId=xlagto), adapted)"
   ]
  },
  {
   "cell_type": "code",
   "execution_count": null,
   "metadata": {},
   "outputs": [],
   "source": [
    "# note that there is a max function in Python, but we are going to ignore it\n",
    "# for the sake of the exercise\n",
    "def listMax(ll):\n",
    "    max_so_far=ll[0]\n",
    "    max_idx=0\n",
    "    idx=1\n",
    "    for x in ll[1:]:\n",
    "        if x>max_so_far:\n",
    "            max_so_far=x\n",
    "            max_idx=idx\n",
    "        idx+=1\n",
    "    return(max_so_far, max_idx)\n",
    "\n",
    "print(listMax([0,1,3]))\n"
   ]
  },
  {
   "cell_type": "markdown",
   "metadata": {},
   "source": [
    "### Roll your own"
   ]
  },
  {
   "cell_type": "markdown",
   "metadata": {},
   "source": [
    "Take the three functions you coded above and put them in a file called ```mymax.py``` to make a module. Then try writing a simple program that starts with \n",
    "```\n",
    "import mymax\n",
    "```\n",
    "and calls the functions you wrote as ```mymax.max_of_three()```, etc"
   ]
  },
  {
   "cell_type": "code",
   "execution_count": null,
   "metadata": {},
   "outputs": [],
   "source": [
    "# This is easy. Just copy the functions to a file called mymax.py, save it and import it"
   ]
  },
  {
   "cell_type": "markdown",
   "metadata": {},
   "source": [
    "### Histogram"
   ]
  },
  {
   "cell_type": "markdown",
   "metadata": {},
   "source": [
    "Define a procedure ```histogram()``` that takes a list of integers and prints a histogram to the screen. For example, ```histogram([4, 9, 7])``` should print the following:\n",
    "```\n",
    "****\n",
    "*********\n",
    "*******\n",
    "```\n",
    "Note: a procedure is a function that does not return any value, it simply *does* something.\n",
    "\n",
    "(Credits:  [Thorbjoern Lager](https://www.gu.se/english/about_the_university/staff/?languageId=100001&userId=xlagto))"
   ]
  },
  {
   "cell_type": "code",
   "execution_count": null,
   "metadata": {},
   "outputs": [],
   "source": [
    "def histogram(ll):\n",
    "    for x in ll:\n",
    "        print('#'*x)\n",
    "        \n",
    "histogram([4,9,7])\n",
    "    "
   ]
  },
  {
   "cell_type": "markdown",
   "metadata": {},
   "source": [
    "### Got it all backwards"
   ]
  },
  {
   "cell_type": "markdown",
   "metadata": {},
   "source": [
    "Define a function ```reverse()``` that takes a string as an argument and returns it reversed. For instance,   ```reverse(\"I am testing\")``` should return the string \"gnitset ma I\".\n",
    "\n",
    "\n",
    "(Credits:  [Thorbjoern Lager](https://www.gu.se/english/about_the_university/staff/?languageId=100001&userId=xlagto))"
   ]
  },
  {
   "cell_type": "code",
   "execution_count": null,
   "metadata": {},
   "outputs": [],
   "source": [
    "def reverse(s):\n",
    "    l=list(s)\n",
    "    l.reverse()\n",
    "    return ''.join(l)\n",
    "\n",
    "print(reverse(\"gnitset ma I\"))"
   ]
  },
  {
   "cell_type": "markdown",
   "metadata": {},
   "source": [
    "### Palindromes"
   ]
  },
  {
   "cell_type": "markdown",
   "metadata": {},
   "source": [
    "A palindrome is a word or sentence that is unaltered when read backwards.\n",
    "\n",
    "Write a palindrome recognizer ```isPalindrome()``` that accepts phrase palindromes such as \"Go hang a salami I'm a lasagna hog.\", \"Was it a rat I saw?\", \"Step on no pets\", \"Sit on a potato pan, Otis\", \"Lisa Bonet ate no basil\", \"Satan, oscillate my metallic sonatas\", \"I roamed under it as a tired nude Maori\", \"Rise to vote sir\", or the exclamation \"Dammit, I'm mad!\". Note that punctuation, capitalization, and spacing are usually ignored. \n",
    "\n",
    "Your function should return ```True``` for palindromes and ```False``` otherwise. Your function should use the ```reverse()``` function you just programmed to do its job.\n",
    "\n",
    "(Credits:  [Thorbjoern Lager](https://www.gu.se/english/about_the_university/staff/?languageId=100001&userId=xlagto))"
   ]
  },
  {
   "cell_type": "code",
   "execution_count": null,
   "metadata": {},
   "outputs": [],
   "source": [
    "def reverse(s):\n",
    "    l=list(s)\n",
    "    l.reverse()\n",
    "    return ''.join(l)\n",
    "\n",
    "def isPalindrome(s):\n",
    "    s=s.upper()\n",
    "    # get rid of punctuation and spaces - x iterates \n",
    "    # over each character in s, only non-spaces are kept\n",
    "    l=[x for x in s if x not in  \" ,.?!;:'\"]\n",
    "    s=''.join(l) # turn it back into a string\n",
    "    return s==reverse(s)  # this is either True or False\n",
    "\n",
    "isPalindrome(\"I roamed under it as a tired nude maori\")"
   ]
  },
  {
   "cell_type": "markdown",
   "metadata": {},
   "source": [
    "### Default arguments and calling styles"
   ]
  },
  {
   "cell_type": "markdown",
   "metadata": {},
   "source": [
    "Try calling the procedure below in the following ways, that are all legal, and see what happens:\n",
    "```\n",
    "aProc(\"eggs\", \"bacon\") # specify both arguments (the usual way)\n",
    "aProc() # use default values\n",
    "aProc(\"goo\") # only specifies first argument\n",
    "aProc(second=\"more spam\") # only specifies second argument\n",
    "pet=[\"Humpty\", \"Dumpty\"]\n",
    "aProc(*pet) # both arguments as a list \n",
    "meg_and_mog={'first': 'Meg', 'second': 'Mog'} \n",
    "aProc(**meg_and_mog) # both arguments as a dictionary\n",
    "```"
   ]
  },
  {
   "cell_type": "code",
   "execution_count": null,
   "metadata": {},
   "outputs": [],
   "source": [
    "def aProc(first=\"spam\", second=\"ham\"):\n",
    "    \"\"\" This procedure has default values for its arguments \"\"\"\n",
    "    print \"The first argument is: \", first\n",
    "    print \"And the second is    : \", second\n",
    "    print \"---------------------------------\""
   ]
  },
  {
   "cell_type": "markdown",
   "metadata": {},
   "source": [
    "### Lingo"
   ]
  },
  {
   "cell_type": "markdown",
   "metadata": {},
   "source": [
    "\n",
    "\n",
    "In a game of Lingo, there is a hidden word, five characters long. The object of the game is to find this word by guessing, and in return receive two kinds of clues: 1) the characters that are fully correct, with respect to identity as well as to position, and 2) the characters that are indeed present in the word, but which are placed in the wrong position. Write a program with which one can play Lingo. Use square brackets to mark characters correct in the sense of 1), and ordinary parentheses to mark characters correct in the sense of 2). For the sake of the exercise, your program should pass each character in the user input to a function that \"packages\" it in brackets (or not). In turn, this should use two separate functions to check if either 1) or 2) apply.\n",
    "\n",
    "Assuming, for example, that the program conceals the word \"tiger\", you should be able to interact with it in the following way:\n",
    "\n",
    "```\n",
    "snake\n",
    "Clue: snak(e)\n",
    "least\n",
    "Clue: l(e)as(t)\n",
    "times\n",
    "Clue: [t][i]m[e]s\n",
    "tiger\n",
    "Clue: [t][i][g][e][r]\n",
    "```\n",
    "\n",
    "(Credits:  [Thorbjoern Lager](https://www.gu.se/english/about_the_university/staff/?languageId=100001&userId=xlagto))"
   ]
  },
  {
   "cell_type": "code",
   "execution_count": null,
   "metadata": {},
   "outputs": [],
   "source": [
    "SECRET=\"tiger\"\n",
    "\n",
    "def exact(i,c):\n",
    "    \"\"\" both character and position right \"\"\"\n",
    "    return SECRET[i]==c\n",
    "\n",
    "def appears(c):\n",
    "    \"\"\" character appears in secret \"\"\"\n",
    "    return c in SECRET\n",
    "\n",
    "def feedback(guess):\n",
    "    \"\"\" print the guess with brackets as appropriate \"\"\"\n",
    "    matches=0\n",
    "    print(\"Clue: \", end=\"\") # no newline\n",
    "    # enumerate returns (index, character) tuples\n",
    "    for (i,c) in enumerate(guess):\n",
    "        if exact(i,c):\n",
    "            print( \"[\"+c+\"]\", end=\"\")\n",
    "            matches+=1\n",
    "        elif appears(c):\n",
    "            print( \"(\"+c+\")\", end=\"\") \n",
    "        else:\n",
    "            print(c, end=\"\")\n",
    "    print() # wrap the line\n",
    "    return matches\n",
    "\n",
    "# the main loop is actually quite simple\n",
    "matches=0\n",
    "while matches!=len(SECRET):\n",
    "    guess=input(\">> \")\n",
    "    matches=feedback(guess)\n",
    "    \n",
    "print(\"Well done!\")"
   ]
  },
  {
   "cell_type": "markdown",
   "metadata": {},
   "source": [
    "### Chicken out"
   ]
  },
  {
   "cell_type": "markdown",
   "metadata": {},
   "source": [
    "You now have all the tools and the knowledge to do fairly complex things. Try this one: download the entire chicken proteome from. \n",
    "```\n",
    "ftp://ftp.uniprot.org/pub/databases/uniprot/current_release/knowledgebase/reference_proteomes/Eukaryota/\n",
    "```\n",
    "*Gallus gallus* is entry ```U000000539_*.fasta.gz```, where ```*``` stands for the current revision number. Download the file, unzip it using ```gunzip``` and rename it ```CHICK.fasta``` for convenience.\n",
    "\n",
    "The file contains all chicken proteins listed one after the other in FASTA format (try viewing part of it with the command ```more CHICK.fasta```).\n",
    "\n",
    "Write a program that computes the average length of a chicken  protein and the frequency of the various aminoacids in the chicken genome (that you can print out as a nice histogram if you want). You can recycle bits and pieces of code written so far, packaging them into separate functions or possibly even a module. Keep in mind that chicken proteins are listed one after the other in the same file, so you should stop reading a protein sequence when a new header is found (instead than when the file finishes), without closing the file. Do not attempt to read the entire file in one go; process it line by line.\n"
   ]
  },
  {
   "cell_type": "code",
   "execution_count": null,
   "metadata": {},
   "outputs": [],
   "source": [
    "# An example of how to process this kind of files will be given in the last lecture"
   ]
  }
 ],
 "metadata": {
  "kernelspec": {
   "display_name": "Python 3",
   "language": "python",
   "name": "python3"
  },
  "language_info": {
   "codemirror_mode": {
    "name": "ipython",
    "version": 3
   },
   "file_extension": ".py",
   "mimetype": "text/x-python",
   "name": "python",
   "nbconvert_exporter": "python",
   "pygments_lexer": "ipython3",
   "version": "3.8.10"
  }
 },
 "nbformat": 4,
 "nbformat_minor": 1
}
